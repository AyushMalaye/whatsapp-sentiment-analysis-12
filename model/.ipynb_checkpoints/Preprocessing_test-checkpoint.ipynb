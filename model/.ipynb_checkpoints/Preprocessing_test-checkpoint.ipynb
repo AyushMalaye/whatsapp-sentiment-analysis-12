{
 "cells": [
  {
   "cell_type": "code",
   "execution_count": 1,
   "id": "634fd1d7",
   "metadata": {},
   "outputs": [],
   "source": [
    "import re\n",
    "import pandas as pd\n",
    "\n",
    "import streamlit as st\n",
    "import matplotlib.pyplot as plt\n",
    "import seaborn as sns\n",
    "from textblob import TextBlob\n",
    "import numpy as np\n",
    "import pandas as pd \n",
    "import emoji"
   ]
  },
  {
   "cell_type": "code",
   "execution_count": 2,
   "id": "5afa593f",
   "metadata": {},
   "outputs": [],
   "source": [
    "f = open(\"chat.txt\",\"r\",encoding='utf-8')\n",
    "data = f.read()\n",
    "pattern = '\\d{1,2}/\\d{1,2}/\\d{2,4},\\s\\d{1,2}:\\d{2}\\s[APap][mM]\\s-\\s'"
   ]
  },
  {
   "cell_type": "code",
   "execution_count": 3,
   "id": "d008acec",
   "metadata": {},
   "outputs": [],
   "source": [
    "messages = re.split(pattern, data)[1:]\n",
    "dates = re.findall(pattern, data)"
   ]
  },
  {
   "cell_type": "code",
   "execution_count": 4,
   "id": "ef4b667b",
   "metadata": {},
   "outputs": [],
   "source": [
    "df = pd.DataFrame({'user_message': messages, 'message_date': dates})\n",
    "# convert message_date type\n",
    "df['message_date'] = pd.to_datetime(df['message_date'], format='%d/%m/%Y, %I:%M %p - ')\n",
    "df.rename(columns={'message_date': 'date'}, inplace=True)"
   ]
  },
  {
   "cell_type": "code",
   "execution_count": 5,
   "id": "1176ec92",
   "metadata": {},
   "outputs": [],
   "source": [
    "users = []\n",
    "messages = []\n",
    "for message in df['user_message']:\n",
    "        entry = re.split('([\\w\\W]+?):\\s', message)\n",
    "        if entry[1:]:  # user name\n",
    "            users.append(entry[1])\n",
    "            messages.append(\" \".join(entry[2:]))\n",
    "        else:\n",
    "            users.append('group_notification')\n",
    "            messages.append(entry[0])"
   ]
  },
  {
   "cell_type": "code",
   "execution_count": 6,
   "id": "1c630aa4",
   "metadata": {},
   "outputs": [],
   "source": [
    "df['user'] = users\n",
    "df['message'] = messages\n",
    "df.drop(columns=['user_message'], inplace=True)\n",
    "\n",
    "df['only_date'] = df['date'].dt.date\n",
    "df['year'] = df['date'].dt.year\n",
    "df['month_num'] = df['date'].dt.month\n",
    "df['month'] = df['date'].dt.month_name()\n",
    "df['day'] = df['date'].dt.day\n",
    "df['day_name'] = df['date'].dt.day_name()\n",
    "df['hour'] = df['date'].dt.hour\n",
    "df['minute'] = df['date'].dt.minute"
   ]
  },
  {
   "cell_type": "code",
   "execution_count": 7,
   "id": "d022457b",
   "metadata": {},
   "outputs": [],
   "source": [
    "period = []\n",
    "for hour in df[['day_name', 'hour']]['hour']:\n",
    "        if hour == 23:\n",
    "            period.append(str(hour) + \"-\" + str('00'))\n",
    "        elif hour == 0:\n",
    "            period.append(str('00') + \"-\" + str(hour + 1))\n",
    "        else:\n",
    "            period.append(str(hour) + \"-\" + str(hour + 1))\n",
    "\n",
    "df['period'] = period"
   ]
  },
  {
   "cell_type": "code",
   "execution_count": 8,
   "id": "55a73088",
   "metadata": {},
   "outputs": [
    {
     "data": {
      "text/html": [
       "<div>\n",
       "<style scoped>\n",
       "    .dataframe tbody tr th:only-of-type {\n",
       "        vertical-align: middle;\n",
       "    }\n",
       "\n",
       "    .dataframe tbody tr th {\n",
       "        vertical-align: top;\n",
       "    }\n",
       "\n",
       "    .dataframe thead th {\n",
       "        text-align: right;\n",
       "    }\n",
       "</style>\n",
       "<table border=\"1\" class=\"dataframe\">\n",
       "  <thead>\n",
       "    <tr style=\"text-align: right;\">\n",
       "      <th></th>\n",
       "      <th>date</th>\n",
       "      <th>user</th>\n",
       "      <th>message</th>\n",
       "      <th>only_date</th>\n",
       "      <th>year</th>\n",
       "      <th>month_num</th>\n",
       "      <th>month</th>\n",
       "      <th>day</th>\n",
       "      <th>day_name</th>\n",
       "      <th>hour</th>\n",
       "      <th>minute</th>\n",
       "      <th>period</th>\n",
       "    </tr>\n",
       "  </thead>\n",
       "  <tbody>\n",
       "    <tr>\n",
       "      <th>0</th>\n",
       "      <td>2020-07-22 20:20:00</td>\n",
       "      <td>group_notification</td>\n",
       "      <td>Messages and calls are end-to-end encrypted. N...</td>\n",
       "      <td>2020-07-22</td>\n",
       "      <td>2020</td>\n",
       "      <td>7</td>\n",
       "      <td>July</td>\n",
       "      <td>22</td>\n",
       "      <td>Wednesday</td>\n",
       "      <td>20</td>\n",
       "      <td>20</td>\n",
       "      <td>20-21</td>\n",
       "    </tr>\n",
       "    <tr>\n",
       "      <th>1</th>\n",
       "      <td>2020-07-21 18:11:00</td>\n",
       "      <td>group_notification</td>\n",
       "      <td>Arvind Clg created group \"IT NOTICE BOARD\"\\n</td>\n",
       "      <td>2020-07-21</td>\n",
       "      <td>2020</td>\n",
       "      <td>7</td>\n",
       "      <td>July</td>\n",
       "      <td>21</td>\n",
       "      <td>Tuesday</td>\n",
       "      <td>18</td>\n",
       "      <td>11</td>\n",
       "      <td>18-19</td>\n",
       "    </tr>\n",
       "    <tr>\n",
       "      <th>2</th>\n",
       "      <td>2020-07-22 20:20:00</td>\n",
       "      <td>group_notification</td>\n",
       "      <td>You joined using this group's invite link\\n</td>\n",
       "      <td>2020-07-22</td>\n",
       "      <td>2020</td>\n",
       "      <td>7</td>\n",
       "      <td>July</td>\n",
       "      <td>22</td>\n",
       "      <td>Wednesday</td>\n",
       "      <td>20</td>\n",
       "      <td>20</td>\n",
       "      <td>20-21</td>\n",
       "    </tr>\n",
       "    <tr>\n",
       "      <th>3</th>\n",
       "      <td>2020-07-22 20:23:00</td>\n",
       "      <td>group_notification</td>\n",
       "      <td>+91 90042 94535 joined using this group's invi...</td>\n",
       "      <td>2020-07-22</td>\n",
       "      <td>2020</td>\n",
       "      <td>7</td>\n",
       "      <td>July</td>\n",
       "      <td>22</td>\n",
       "      <td>Wednesday</td>\n",
       "      <td>20</td>\n",
       "      <td>23</td>\n",
       "      <td>20-21</td>\n",
       "    </tr>\n",
       "    <tr>\n",
       "      <th>4</th>\n",
       "      <td>2020-07-22 20:36:00</td>\n",
       "      <td>group_notification</td>\n",
       "      <td>Rohit Sharma It joined using this group's invi...</td>\n",
       "      <td>2020-07-22</td>\n",
       "      <td>2020</td>\n",
       "      <td>7</td>\n",
       "      <td>July</td>\n",
       "      <td>22</td>\n",
       "      <td>Wednesday</td>\n",
       "      <td>20</td>\n",
       "      <td>36</td>\n",
       "      <td>20-21</td>\n",
       "    </tr>\n",
       "  </tbody>\n",
       "</table>\n",
       "</div>"
      ],
      "text/plain": [
       "                 date                user  \\\n",
       "0 2020-07-22 20:20:00  group_notification   \n",
       "1 2020-07-21 18:11:00  group_notification   \n",
       "2 2020-07-22 20:20:00  group_notification   \n",
       "3 2020-07-22 20:23:00  group_notification   \n",
       "4 2020-07-22 20:36:00  group_notification   \n",
       "\n",
       "                                             message   only_date  year  \\\n",
       "0  Messages and calls are end-to-end encrypted. N...  2020-07-22  2020   \n",
       "1       Arvind Clg created group \"IT NOTICE BOARD\"\\n  2020-07-21  2020   \n",
       "2        You joined using this group's invite link\\n  2020-07-22  2020   \n",
       "3  +91 90042 94535 joined using this group's invi...  2020-07-22  2020   \n",
       "4  Rohit Sharma It joined using this group's invi...  2020-07-22  2020   \n",
       "\n",
       "   month_num month  day   day_name  hour  minute period  \n",
       "0          7  July   22  Wednesday    20      20  20-21  \n",
       "1          7  July   21    Tuesday    18      11  18-19  \n",
       "2          7  July   22  Wednesday    20      20  20-21  \n",
       "3          7  July   22  Wednesday    20      23  20-21  \n",
       "4          7  July   22  Wednesday    20      36  20-21  "
      ]
     },
     "execution_count": 8,
     "metadata": {},
     "output_type": "execute_result"
    }
   ],
   "source": [
    "df.head()"
   ]
  },
  {
   "cell_type": "code",
   "execution_count": 10,
   "id": "1585a158",
   "metadata": {},
   "outputs": [
    {
     "ename": "AttributeError",
     "evalue": "'numpy.ndarray' object has no attribute 'split'",
     "output_type": "error",
     "traceback": [
      "\u001b[1;31m---------------------------------------------------------------------------\u001b[0m",
      "\u001b[1;31mAttributeError\u001b[0m                            Traceback (most recent call last)",
      "Cell \u001b[1;32mIn [10], line 2\u001b[0m\n\u001b[0;32m      1\u001b[0m list_of_users \u001b[38;5;241m=\u001b[39m df[\u001b[38;5;124m\"\u001b[39m\u001b[38;5;124muser\u001b[39m\u001b[38;5;124m\"\u001b[39m]\u001b[38;5;241m.\u001b[39munique()\n\u001b[1;32m----> 2\u001b[0m \u001b[38;5;28mprint\u001b[39m(\u001b[43mlist_of_users\u001b[49m\u001b[38;5;241;43m.\u001b[39;49m\u001b[43msplit\u001b[49m(\u001b[38;5;124m\"\u001b[39m\u001b[38;5;124m \u001b[39m\u001b[38;5;124m\"\u001b[39m))\n",
      "\u001b[1;31mAttributeError\u001b[0m: 'numpy.ndarray' object has no attribute 'split'"
     ]
    }
   ],
   "source": [
    "list_of_users = df[\"user\"].unique()\n",
    "print(list_of_users.split(\", \"))"
   ]
  },
  {
   "cell_type": "code",
   "execution_count": null,
   "id": "7a31598c",
   "metadata": {},
   "outputs": [],
   "source": []
  }
 ],
 "metadata": {
  "kernelspec": {
   "display_name": "Python 3 (ipykernel)",
   "language": "python",
   "name": "python3"
  },
  "language_info": {
   "codemirror_mode": {
    "name": "ipython",
    "version": 3
   },
   "file_extension": ".py",
   "mimetype": "text/x-python",
   "name": "python",
   "nbconvert_exporter": "python",
   "pygments_lexer": "ipython3",
   "version": "3.9.15"
  }
 },
 "nbformat": 4,
 "nbformat_minor": 5
}
